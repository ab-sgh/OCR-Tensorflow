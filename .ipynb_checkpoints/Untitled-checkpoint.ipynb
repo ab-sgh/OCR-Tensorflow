{
 "cells": [
  {
   "cell_type": "code",
   "execution_count": 9,
   "id": "8d9e01fd-5a64-40d9-9f4d-61909427062a",
   "metadata": {},
   "outputs": [],
   "source": [
    "import cv2\n",
    "import pytesseract"
   ]
  },
  {
   "cell_type": "code",
   "execution_count": 17,
   "id": "c14e34de-2bd0-495f-8fe6-ab025adaf3fb",
   "metadata": {},
   "outputs": [],
   "source": [
    "pytesseract.pytesseract.tesseract_cmd = 'C:\\\\Program Files\\\\Tesseract-OCR\\\\tesseract.exe'"
   ]
  },
  {
   "cell_type": "code",
   "execution_count": 27,
   "id": "34d7e137-0f4f-4623-8cac-f24d2e964da2",
   "metadata": {},
   "outputs": [
    {
     "ename": "NameError",
     "evalue": "name 'result' is not defined",
     "output_type": "error",
     "traceback": [
      "\u001b[1;31m---------------------------------------------------------------------------\u001b[0m",
      "\u001b[1;31mNameError\u001b[0m                                 Traceback (most recent call last)",
      "Cell \u001b[1;32mIn[27], line 4\u001b[0m\n\u001b[0;32m      2\u001b[0m \u001b[38;5;66;03m#pytesseract only accepts RGB values\u001b[39;00m\n\u001b[0;32m      3\u001b[0m img \u001b[38;5;241m=\u001b[39m cv2\u001b[38;5;241m.\u001b[39mcvtColor(img,cv2\u001b[38;5;241m.\u001b[39mCOLOR_BGR2RGB)\n\u001b[1;32m----> 4\u001b[0m cv2\u001b[38;5;241m.\u001b[39mimshow(result,img)\n\u001b[0;32m      5\u001b[0m cv2\u001b[38;5;241m.\u001b[39mwaitkey(\u001b[38;5;241m0\u001b[39m)\n",
      "\u001b[1;31mNameError\u001b[0m: name 'result' is not defined"
     ]
    }
   ],
   "source": [
    "img = cv2.imread('img1.png')\n",
    "#pytesseract only accepts RGB values\n",
    "img = cv2.cvtColor(img,cv2.COLOR_BGR2RGB)\n",
    "cv2.imshow('img',img)\n",
    "cv2.waitkey(0)"
   ]
  },
  {
   "cell_type": "code",
   "execution_count": null,
   "id": "c6828a79-ac8a-48ef-b68c-e7a4792ea2b9",
   "metadata": {},
   "outputs": [],
   "source": []
  }
 ],
 "metadata": {
  "kernelspec": {
   "display_name": "Python 3 (ipykernel)",
   "language": "python",
   "name": "python3"
  },
  "language_info": {
   "codemirror_mode": {
    "name": "ipython",
    "version": 3
   },
   "file_extension": ".py",
   "mimetype": "text/x-python",
   "name": "python",
   "nbconvert_exporter": "python",
   "pygments_lexer": "ipython3",
   "version": "3.12.3"
  }
 },
 "nbformat": 4,
 "nbformat_minor": 5
}
